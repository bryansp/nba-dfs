{
 "cells": [
  {
   "cell_type": "code",
   "execution_count": 23,
   "metadata": {
    "collapsed": true
   },
   "outputs": [],
   "source": [
    "import database_operations as dbo\n",
    "import pandas as pd"
   ]
  },
  {
   "cell_type": "code",
   "execution_count": 24,
   "metadata": {
    "collapsed": false
   },
   "outputs": [],
   "source": [
    "resultset=dbo.read_from_db('hist_player_data',{'sport':'NBA'})"
   ]
  },
  {
   "cell_type": "code",
   "execution_count": 25,
   "metadata": {
    "collapsed": false
   },
   "outputs": [],
   "source": [
    "df=pd.DataFrame(resultset)"
   ]
  },
  {
   "cell_type": "code",
   "execution_count": 26,
   "metadata": {
    "collapsed": false
   },
   "outputs": [
    {
     "data": {
      "text/plain": [
       "array(['3FGA', '3FGM', 'FGA', 'FGM', 'FTA', 'FTM', '_id', 'assists',\n",
       "       'blocks', 'date', 'fouls', 'gameID', 'minutes', 'player',\n",
       "       'player_type', 'points', 'position', 'rebounds', 'sport', 'starter',\n",
       "       'steals', 'team', 'turnovers'], dtype=object)"
      ]
     },
     "execution_count": 26,
     "metadata": {},
     "output_type": "execute_result"
    }
   ],
   "source": [
    "df.columns.values"
   ]
  },
  {
   "cell_type": "code",
   "execution_count": 27,
   "metadata": {
    "collapsed": true
   },
   "outputs": [],
   "source": [
    "df=df[['3FGA', '3FGM', 'FGA', 'FGM', 'FTA', 'FTM', 'assists',\n",
    "       'blocks', 'date', 'fouls', 'gameID', 'minutes', 'player',\n",
    "       'points', 'position', 'rebounds', 'sport', 'starter',\n",
    "       'steals', 'team', 'turnovers']]"
   ]
  },
  {
   "cell_type": "code",
   "execution_count": 28,
   "metadata": {
    "collapsed": false
   },
   "outputs": [
    {
     "name": "stdout",
     "output_type": "stream",
     "text": [
      "<class 'pandas.core.frame.DataFrame'>\n",
      "Int64Index: 103507 entries, 0 to 103506\n",
      "Data columns (total 21 columns):\n",
      "3FGA         103507 non-null int64\n",
      "3FGM         103507 non-null int64\n",
      "FGA          103507 non-null int64\n",
      "FGM          103507 non-null int64\n",
      "FTA          103507 non-null int64\n",
      "FTM          103507 non-null int64\n",
      "assists      103507 non-null int64\n",
      "blocks       103507 non-null int64\n",
      "date         103507 non-null datetime64[ns]\n",
      "fouls        103507 non-null int64\n",
      "gameID       103507 non-null object\n",
      "minutes      103507 non-null int64\n",
      "player       103507 non-null object\n",
      "points       103507 non-null int64\n",
      "position     103507 non-null object\n",
      "rebounds     103507 non-null int64\n",
      "sport        103507 non-null object\n",
      "starter      103507 non-null int64\n",
      "steals       103507 non-null int64\n",
      "team         103507 non-null object\n",
      "turnovers    103507 non-null int64\n",
      "dtypes: datetime64[ns](1), int64(15), object(5)\n",
      "memory usage: 17.4+ MB\n"
     ]
    }
   ],
   "source": [
    "df.info()"
   ]
  },
  {
   "cell_type": "code",
   "execution_count": 29,
   "metadata": {
    "collapsed": false
   },
   "outputs": [],
   "source": [
    "df.to_csv(\"/Users/whitesi/Documents/Programming/Python/DataAnalystND/player_data.csv\")"
   ]
  },
  {
   "cell_type": "code",
   "execution_count": 30,
   "metadata": {
    "collapsed": true
   },
   "outputs": [],
   "source": [
    "resultset=dbo.read_from_db('hist_event_data',{'sport':'NBA'})"
   ]
  },
  {
   "cell_type": "code",
   "execution_count": 45,
   "metadata": {
    "collapsed": false
   },
   "outputs": [
    {
     "data": {
      "text/plain": [
       "{'_id': ObjectId('564d3dd54dad9312b4a88de6'),\n",
       " 'away_period_scores': [25, 23, 34, 24],\n",
       " 'away_team': 'DET',\n",
       " 'away_totals': {'3FGA': 29,\n",
       "  '3FGM': 12,\n",
       "  'FGA': 96,\n",
       "  'FGM': 37,\n",
       "  'FTA': 26,\n",
       "  'FTM': 20,\n",
       "  'assists': 23,\n",
       "  'blocks': 3,\n",
       "  'fouls': 15,\n",
       "  'points': 106,\n",
       "  'rebounds': 59,\n",
       "  'steals': 5,\n",
       "  'turnovers': 15},\n",
       " 'date': datetime.datetime(2015, 10, 27, 0, 0),\n",
       " 'event_information': {'attendance': 19187,\n",
       "  'duration': '2:10',\n",
       "  'season_type': 'regular'},\n",
       " 'gameID': '20151027-detroit-pistons-at-atlanta-hawks',\n",
       " 'home_period_scores': [25, 18, 23, 28],\n",
       " 'home_team': 'ATL',\n",
       " 'home_totals': {'3FGA': 27,\n",
       "  '3FGM': 8,\n",
       "  'FGA': 82,\n",
       "  'FGM': 37,\n",
       "  'FTA': 15,\n",
       "  'FTM': 12,\n",
       "  'assists': 22,\n",
       "  'blocks': 4,\n",
       "  'fouls': 25,\n",
       "  'points': 94,\n",
       "  'rebounds': 40,\n",
       "  'steals': 9,\n",
       "  'turnovers': 15},\n",
       " 'officials': ['Michael Smith', 'Zach Zarba', 'Eli Roe'],\n",
       " 'sport': 'NBA'}"
      ]
     },
     "execution_count": 45,
     "metadata": {},
     "output_type": "execute_result"
    }
   ],
   "source": [
    "resultset[0]"
   ]
  },
  {
   "cell_type": "code",
   "execution_count": 70,
   "metadata": {
    "collapsed": false
   },
   "outputs": [],
   "source": [
    "resultset[0].keys()\n",
    "nested_keys=list(resultset[0]['home_totals'].keys())"
   ]
  },
  {
   "cell_type": "code",
   "execution_count": 76,
   "metadata": {
    "collapsed": false
   },
   "outputs": [],
   "source": [
    "mod_resultset=[]\n",
    "base_keys=['home_team','away_team','gameID']\n",
    "\n",
    "\n",
    "##4 refs\n",
    "##4 OTs\n",
    "for r in resultset:\n",
    "    d1={key:r[key] for key in base_keys}\n",
    "    d2={'attendance':r['event_information']['attendance'],'duration':r['event_information']['duration'],\n",
    "        'season_type':r['event_information']['season_type']}\n",
    "    d3={'away_'+key:r['away_totals'][key] for key in nested_keys}\n",
    "    d4={'home_'+key:r['home_totals'][key] for key in nested_keys}\n",
    "    officials=len(r['officials'])\n",
    "    periods=len(r['home_period_scores'])\n",
    "    d5={'official_'+str(i):r['officials'][i-1] for i in range(1,officials+1)}\n",
    "    d6={'home_Q'+str(i):r['home_period_scores'][i-1] for i in range(1,periods+1)}\n",
    "    d7={'away_Q'+str(i):r['away_period_scores'][i-1] for i in range(1,periods+1)}\n",
    "    mod_resultset.append({**d1,**d2,**d3,**d4,**d5,**d6,**d7})"
   ]
  },
  {
   "cell_type": "code",
   "execution_count": 80,
   "metadata": {
    "collapsed": false
   },
   "outputs": [
    {
     "data": {
      "text/plain": [
       "array(['attendance', 'away_3FGA', 'away_3FGM', 'away_FGA', 'away_FGM',\n",
       "       'away_FTA', 'away_FTM', 'away_Q1', 'away_Q2', 'away_Q3', 'away_Q4',\n",
       "       'away_Q5', 'away_Q6', 'away_Q7', 'away_Q8', 'away_assists',\n",
       "       'away_blocks', 'away_fouls', 'away_points', 'away_rebounds',\n",
       "       'away_steals', 'away_team', 'away_turnovers', 'duration', 'gameID',\n",
       "       'home_3FGA', 'home_3FGM', 'home_FGA', 'home_FGM', 'home_FTA',\n",
       "       'home_FTM', 'home_Q1', 'home_Q2', 'home_Q3', 'home_Q4', 'home_Q5',\n",
       "       'home_Q6', 'home_Q7', 'home_Q8', 'home_assists', 'home_blocks',\n",
       "       'home_fouls', 'home_points', 'home_rebounds', 'home_steals',\n",
       "       'home_team', 'home_turnovers', 'official_1', 'official_2',\n",
       "       'official_3', 'official_4', 'season_type'], dtype=object)"
      ]
     },
     "execution_count": 80,
     "metadata": {},
     "output_type": "execute_result"
    }
   ],
   "source": [
    "event_df=pd.DataFrame(mod_resultset)\n",
    "event_df.columns.values"
   ]
  },
  {
   "cell_type": "code",
   "execution_count": 88,
   "metadata": {
    "collapsed": false
   },
   "outputs": [
    {
     "name": "stdout",
     "output_type": "stream",
     "text": [
      "<class 'pandas.core.frame.DataFrame'>\n",
      "Int64Index: 4921 entries, 0 to 4920\n",
      "Data columns (total 52 columns):\n",
      "attendance        4921 non-null int64\n",
      "away_3FGA         4921 non-null int64\n",
      "away_3FGM         4921 non-null int64\n",
      "away_FGA          4921 non-null int64\n",
      "away_FGM          4921 non-null int64\n",
      "away_FTA          4921 non-null int64\n",
      "away_FTM          4921 non-null int64\n",
      "away_Q1           4921 non-null int64\n",
      "away_Q2           4921 non-null int64\n",
      "away_Q3           4921 non-null int64\n",
      "away_Q4           4921 non-null int64\n",
      "away_Q5           307 non-null float64\n",
      "away_Q6           54 non-null float64\n",
      "away_Q7           10 non-null float64\n",
      "away_Q8           1 non-null float64\n",
      "away_assists      4921 non-null int64\n",
      "away_blocks       4921 non-null int64\n",
      "away_fouls        4921 non-null int64\n",
      "away_points       4921 non-null int64\n",
      "away_rebounds     4921 non-null int64\n",
      "away_steals       4921 non-null int64\n",
      "away_team         4921 non-null object\n",
      "away_turnovers    4921 non-null int64\n",
      "duration          4921 non-null object\n",
      "gameID            4921 non-null object\n",
      "home_3FGA         4921 non-null int64\n",
      "home_3FGM         4921 non-null int64\n",
      "home_FGA          4921 non-null int64\n",
      "home_FGM          4921 non-null int64\n",
      "home_FTA          4921 non-null int64\n",
      "home_FTM          4921 non-null int64\n",
      "home_Q1           4921 non-null int64\n",
      "home_Q2           4921 non-null int64\n",
      "home_Q3           4921 non-null int64\n",
      "home_Q4           4921 non-null int64\n",
      "home_Q5           307 non-null float64\n",
      "home_Q6           54 non-null float64\n",
      "home_Q7           10 non-null float64\n",
      "home_Q8           1 non-null float64\n",
      "home_assists      4921 non-null int64\n",
      "home_blocks       4921 non-null int64\n",
      "home_fouls        4921 non-null int64\n",
      "home_points       4921 non-null int64\n",
      "home_rebounds     4921 non-null int64\n",
      "home_steals       4921 non-null int64\n",
      "home_team         4921 non-null object\n",
      "home_turnovers    4921 non-null int64\n",
      "official_1        4921 non-null object\n",
      "official_2        4921 non-null object\n",
      "official_3        4920 non-null object\n",
      "official_4        7 non-null object\n",
      "season_type       4921 non-null object\n",
      "dtypes: float64(8), int64(35), object(9)\n",
      "memory usage: 2.0+ MB\n"
     ]
    }
   ],
   "source": [
    "event_df.info()"
   ]
  },
  {
   "cell_type": "code",
   "execution_count": 89,
   "metadata": {
    "collapsed": true
   },
   "outputs": [],
   "source": [
    "event_df.to_csv(\"/Users/whitesi/Documents/Programming/Python/DataAnalystND/event_data.csv\")"
   ]
  },
  {
   "cell_type": "code",
   "execution_count": null,
   "metadata": {
    "collapsed": true
   },
   "outputs": [],
   "source": []
  }
 ],
 "metadata": {
  "kernelspec": {
   "display_name": "Python 3",
   "language": "python",
   "name": "python3"
  },
  "language_info": {
   "codemirror_mode": {
    "name": "ipython",
    "version": 3
   },
   "file_extension": ".py",
   "mimetype": "text/x-python",
   "name": "python",
   "nbconvert_exporter": "python",
   "pygments_lexer": "ipython3",
   "version": "3.5.2"
  }
 },
 "nbformat": 4,
 "nbformat_minor": 0
}
